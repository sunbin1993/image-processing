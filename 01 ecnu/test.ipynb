{
 "cells": [
  {
   "cell_type": "code",
   "execution_count": 3,
   "metadata": {},
   "outputs": [],
   "source": [
    "import numpy as np\n",
    "import cv2"
   ]
  },
  {
   "cell_type": "code",
   "execution_count": 5,
   "metadata": {},
   "outputs": [
    {
     "ename": "error",
     "evalue": "OpenCV(3.4.3) C:\\projects\\opencv-python\\opencv\\modules\\imgproc\\src\\filter.cpp:4493: error: (-213:The function/feature is not implemented) Unsupported combination of source format (=4), and destination format (=4) in function 'cv::getLinearFilter'\n",
     "output_type": "error",
     "traceback": [
      "\u001b[1;31m---------------------------------------------------------------------------\u001b[0m",
      "\u001b[1;31merror\u001b[0m                                     Traceback (most recent call last)",
      "\u001b[1;32m<ipython-input-5-7edaec25a935>\u001b[0m in \u001b[0;36m<module>\u001b[1;34m()\u001b[0m\n\u001b[0;32m     12\u001b[0m                 [  1, 1, 1]])\n\u001b[0;32m     13\u001b[0m \u001b[1;33m\u001b[0m\u001b[0m\n\u001b[1;32m---> 14\u001b[1;33m \u001b[0mres\u001b[0m \u001b[1;33m=\u001b[0m \u001b[0mcv2\u001b[0m\u001b[1;33m.\u001b[0m\u001b[0mfilter2D\u001b[0m\u001b[1;33m(\u001b[0m\u001b[0marray\u001b[0m\u001b[1;33m,\u001b[0m\u001b[1;33m-\u001b[0m\u001b[1;36m1\u001b[0m\u001b[1;33m,\u001b[0m\u001b[0mavefil\u001b[0m\u001b[1;33m)\u001b[0m\u001b[1;33m\u001b[0m\u001b[0m\n\u001b[0m",
      "\u001b[1;31merror\u001b[0m: OpenCV(3.4.3) C:\\projects\\opencv-python\\opencv\\modules\\imgproc\\src\\filter.cpp:4493: error: (-213:The function/feature is not implemented) Unsupported combination of source format (=4), and destination format (=4) in function 'cv::getLinearFilter'\n"
     ]
    }
   ],
   "source": [
    "\n",
    "array = np.array([[4,4,4,4,4,4,4,4],\n",
    "                 [4,4,48,4,4,4,4,4],\n",
    "                 [4,4,64,64,64,64,4,4],\n",
    "                 [4,17,64,64,64,64,4,4],\n",
    "                 [4,4,64,64,64,64,8,4],\n",
    "                 [4,4,64,64,64,64,4,4],\n",
    "                 [4,56,4,4,23,4,4,4],\n",
    "                 [4,4,4,4,4,4,4,4]])\n",
    "avefil = np.array([[ 1,1, 1],                        #这个是设置的滤波，也就是卷积核\n",
    "                [ 1, 1, 1],\n",
    "                [  1, 1, 1]])\n",
    "\n",
    "res = cv2.filter2D(array,-1,avefil)"
   ]
  },
  {
   "cell_type": "code",
   "execution_count": null,
   "metadata": {},
   "outputs": [],
   "source": []
  }
 ],
 "metadata": {
  "kernelspec": {
   "display_name": "Python 3",
   "language": "python",
   "name": "python3"
  },
  "language_info": {
   "codemirror_mode": {
    "name": "ipython",
    "version": 3
   },
   "file_extension": ".py",
   "mimetype": "text/x-python",
   "name": "python",
   "nbconvert_exporter": "python",
   "pygments_lexer": "ipython3",
   "version": "3.6.5"
  }
 },
 "nbformat": 4,
 "nbformat_minor": 2
}
