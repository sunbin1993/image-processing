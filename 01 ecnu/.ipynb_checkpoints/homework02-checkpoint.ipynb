{
 "cells": [
  {
   "cell_type": "code",
   "execution_count": 1,
   "metadata": {},
   "outputs": [],
   "source": [
    "import cv2\n",
    "from matplotlib import pyplot as plt\n",
    "import numpy as np\n",
    "import math"
   ]
  },
  {
   "cell_type": "code",
   "execution_count": 2,
   "metadata": {
    "scrolled": true
   },
   "outputs": [
    {
     "name": "stdout",
     "output_type": "stream",
     "text": [
      "lowContrastImage.dtype is uint8 \n",
      "lowContrastImage.shape  (233, 350, 3)\n"
     ]
    }
   ],
   "source": [
    "lowContrastImage = cv2.imread('images/low_contrast.jpg')\n",
    "print('lowContrastImage.dtype is %s ' % (lowContrastImage.dtype))\n",
    "print('lowContrastImage.shape ',lowContrastImage.shape)\n",
    "# 图像行数\n",
    "rows = lowContrastImage.shape[0]\n",
    "# opencv读彩色图默认是按照b g r 的格式，转成r g b 的方便处理\n",
    "lowContrastImage = cv2.cvtColor(lowContrastImage, cv2.COLOR_BGR2RGB)\n",
    "# split 通道分离  性能比较差 慎用!\n",
    "r,g,b=cv2.split(lowContrastImage)\n",
    "# flatten() 将多维数组降为一维 与 np.ravel()功能一致，\n",
    "# 区别是返回拷贝还是返回视图，np.flatten(）返回一份拷贝，对拷贝所做修改不会影响原始矩阵，\n",
    "# 而np.ravel()返回的是视图，修改时会影响原始矩阵 \n",
    "ar = np.array(r).flatten() \n",
    "ag = np.array(g).flatten() \n",
    "ab = np.array(b).flatten() \n"
   ]
  },
  {
   "cell_type": "code",
   "execution_count": 3,
   "metadata": {},
   "outputs": [],
   "source": [
    "# 计算原始直方图的概率\n",
    "# array 一维的像素数组\n",
    "# return list 中存放着一维像素数组中 像素 及 该像素出现的概率\n",
    "def countOriginalProbability(array):\n",
    "    dict  = {}\n",
    "    arrLength = len(array)\n",
    "    for a in array:\n",
    "        dict[a] = dict.get(a,0) + 1\n",
    "    for p in dict :\n",
    "        dict[p] = dict.get(p) / arrLength\n",
    "    # dict中像素数值的顺序是无序的，需要根据像素数值大小升序排序\n",
    "    list = sorted(dict.items(), key=lambda d: d[0])\n",
    "    return list"
   ]
  },
  {
   "cell_type": "code",
   "execution_count": 4,
   "metadata": {
    "scrolled": true
   },
   "outputs": [],
   "source": [
    "arList = countOriginalProbability(ar)\n",
    "#print(arList)\n",
    "agList = countOriginalProbability(ag)\n",
    "abList = countOriginalProbability(ab)"
   ]
  },
  {
   "cell_type": "code",
   "execution_count": 5,
   "metadata": {},
   "outputs": [],
   "source": [
    "# 计算累计直方图的概率\n",
    "# list\n",
    "# reutrn dict 存放像素及对应的累计概率\n",
    "def countAccumulatedProbability(list):\n",
    "    listLength = len(list)\n",
    "    sumProb = 0\n",
    "    dict={}\n",
    "    for i in range(listLength):\n",
    "        sumProb += list[i][1]\n",
    "        dict[list[i][0]] = sumProb\n",
    "    return dict"
   ]
  },
  {
   "cell_type": "code",
   "execution_count": 6,
   "metadata": {},
   "outputs": [],
   "source": [
    "countarDict = countAccumulatedProbability(arList)\n",
    "# print(countarDict)\n",
    "countagDict = countAccumulatedProbability(agList)\n",
    "countabDict = countAccumulatedProbability(abList)"
   ]
  },
  {
   "cell_type": "code",
   "execution_count": 7,
   "metadata": {},
   "outputs": [],
   "source": [
    "# 取整扩展\n",
    "# list\n",
    "# L 灰度级\n",
    "# reutrn reflectedDict 存放原像素与处理后像素的映射\n",
    "def floorExtend(dict,L):\n",
    "    reflectedDict = {}\n",
    "    for i in dict:\n",
    "        reflectedDict[i] = int( (L - 1) * dict.get(i) + 0.5)\n",
    "    return reflectedDict"
   ]
  },
  {
   "cell_type": "code",
   "execution_count": 8,
   "metadata": {},
   "outputs": [],
   "source": [
    "reflectedRDict = floorExtend(countarDict,256)\n",
    "reflectedGDict = floorExtend(countagDict,256)\n",
    "reflectedBDict = floorExtend(countabDict,256)\n",
    "\n",
    "# print(reflectedRDict)\n",
    "# print(reflectedGDict)\n",
    "# print(reflectedBDict)"
   ]
  },
  {
   "cell_type": "code",
   "execution_count": 9,
   "metadata": {},
   "outputs": [],
   "source": [
    "# 根据取整扩展的映射关系获取映射后的像素数组\n",
    "# array 原像素数组\n",
    "# reflectedDict\n",
    "# return reflectedArray \n",
    "def getEquilibriumArray(array,reflectedDict):\n",
    "    arrLength = len(array)\n",
    "    reflectedArray = []#np.zeros((arrLength))\n",
    "    for i in range(arrLength):\n",
    "        #print(reflectDict.get(array[i]))\n",
    "        reflectedArray.append(reflectedDict.get(array[i]))\n",
    "    return reflectedArray"
   ]
  },
  {
   "cell_type": "code",
   "execution_count": 10,
   "metadata": {},
   "outputs": [],
   "source": [
    "reflectedRArray = getEquilibriumArray(ar,reflectedRDict)\n",
    "reflectedGArray = getEquilibriumArray(ag,reflectedGDict)\n",
    "reflectedBArray = getEquilibriumArray(ab,reflectedBDict)"
   ]
  },
  {
   "cell_type": "code",
   "execution_count": 11,
   "metadata": {},
   "outputs": [],
   "source": [
    "# np.reshape() 在不改变数据内容的情况下，改变一个数组的格式。\n",
    "reflectedRArray2 = np.reshape(reflectedRArray, (rows,-1))\n",
    "reflectedGArray2 = np.reshape(reflectedGArray, (rows,-1))\n",
    "reflectedBArray2 = np.reshape(reflectedBArray, (rows,-1))\n",
    "\n"
   ]
  },
  {
   "cell_type": "code",
   "execution_count": 22,
   "metadata": {},
   "outputs": [],
   "source": [
    "def exp(array,c,y):\n",
    "    arrLength = len(array)\n",
    "    stretchArray = []\n",
    "    for i in range(arrLength):\n",
    "        stretchArray.append(math.ceil(c * math.pow(array[i],y)))\n",
    "    return stretchArray"
   ]
  },
  {
   "cell_type": "code",
   "execution_count": 25,
   "metadata": {},
   "outputs": [
    {
     "name": "stdout",
     "output_type": "stream",
     "text": [
      "[[194 194 194 ... 196 198 200]\n",
      " [194 194 194 ... 196 196 198]\n",
      " [194 194 194 ... 198 196 196]\n",
      " ...\n",
      " [156 158 160 ... 162 160 158]\n",
      " [156 158 162 ... 160 158 156]\n",
      " [154 152 154 ... 162 162 160]]\n"
     ]
    }
   ],
   "source": [
    "stretchRArray = exp(ar,2,1)\n",
    "stretchGArray = exp(ag,2,1)\n",
    "stretchBArray = exp(ab,2,1)\n",
    "\n",
    "stretchRArray2 = np.reshape(stretchRArray, (rows,-1))\n",
    "print(stretchRArray2)\n",
    "stretchGArray2 = np.reshape(stretchGArray, (rows,-1))\n",
    "stretchBArray2 = np.reshape(stretchBArray, (rows,-1))"
   ]
  },
  {
   "cell_type": "code",
   "execution_count": null,
   "metadata": {
    "scrolled": true
   },
   "outputs": [],
   "source": [
    "# print(reflectedRArray)\n",
    "# print(reflectedGArray)\n",
    "# print(reflectedBArray)\n",
    "src = cv2.merge([reflectedBArray2,reflectedGArray2,reflectedRArray2])\n",
    "# src = cv2.merge([b,g,r])\n",
    "print('原始图像R通道 shape ',r.shape)\n",
    "print('拉伸图像R通道stretchRArray  shape ',stretchRArray2.shape)\n",
    "print('处理后图像R通道 shape ',reflectedRArray2.shape)\n",
    "plt.figure(figsize=(20,20))\n",
    "plt.subplot(3, 2, 1)\n",
    "plt.imshow(lowContrastImage)\n",
    "plt.title(\"low contrast image\")\n",
    "\n",
    "plt.subplot(3, 2, 2)\n",
    "ar = np.array(r).flatten() \n",
    "ag = np.array(g).flatten() \n",
    "ab = np.array(b).flatten() \n",
    "plt.hist(ar,bins = 256, density = 1, facecolor = 'red', edgecolor = 'red')\n",
    "plt.hist(ag,bins = 256, density = 1, facecolor = 'green', edgecolor = 'green') \n",
    "plt.hist(ab,bins = 256, density = 1, facecolor = 'blue', edgecolor = 'blue') \n",
    "plt.title(\"low contrast histogram\")\n",
    "\n",
    "plt.subplot(3, 2, 3)\n",
    "plt.imshow(src)\n",
    "plt.title(\"high contrast image\")\n",
    "\n",
    "plt.subplot(3, 2, 4)\n",
    "plt.hist(reflectedRArray,bins = 256, density = 1, facecolor = 'red', edgecolor = 'red')\n",
    "plt.hist(reflectedGArray,bins = 256, density = 1, facecolor = 'green', edgecolor = 'green') \n",
    "plt.hist(reflectedBArray,bins = 256, density = 1, facecolor = 'blue', edgecolor = 'blue') \n",
    "plt.title(\"high contrast histogram\")\n",
    "\n",
    "plt.subplot(3, 2, 5)\n",
    "src2 = cv2.merge([stretchBArray2,stretchGArray2,stretchRArray2])\n",
    "plt.imshow(src2)\n",
    "plt.title(\"stretch image\")\n",
    "\n",
    "# plt.subplot(3, 2, 6)\n",
    "# plt.hist(stretchBArray2,bins = 256, density = 1, facecolor = 'red', edgecolor = 'red')\n",
    "# plt.hist(stretchBArray2,bins = 256, density = 1, facecolor = 'green', edgecolor = 'green') \n",
    "# plt.hist(stretchRArray2,bins = 256, density = 1, facecolor = 'blue', edgecolor = 'blue') \n",
    "# plt.title(\"high contrast histogram\")\n",
    "\n",
    "\n",
    "\n",
    "\n",
    "\n",
    "plt.show()"
   ]
  },
  {
   "cell_type": "code",
   "execution_count": null,
   "metadata": {},
   "outputs": [],
   "source": []
  },
  {
   "cell_type": "code",
   "execution_count": null,
   "metadata": {},
   "outputs": [],
   "source": []
  }
 ],
 "metadata": {
  "kernelspec": {
   "display_name": "Python 3",
   "language": "python",
   "name": "python3"
  },
  "language_info": {
   "codemirror_mode": {
    "name": "ipython",
    "version": 3
   },
   "file_extension": ".py",
   "mimetype": "text/x-python",
   "name": "python",
   "nbconvert_exporter": "python",
   "pygments_lexer": "ipython3",
   "version": "3.6.5"
  }
 },
 "nbformat": 4,
 "nbformat_minor": 2
}
