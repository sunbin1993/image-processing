{
 "cells": [
  {
   "cell_type": "markdown",
   "metadata": {},
   "source": [
    "## 作业\n",
    "##### 1. 打开图像，显示图像，存储图像；对一张图像进行缩放，观察其分辨率，降低灰度分辨率\n",
    "##### 2. 打开一副低对比度图像，拉伸其图像，直方图均衡\n",
    "##### 3. 对一副图像加噪声（高斯 椒盐），进行平滑，锐化作用\n",
    "##### 4. 对一副图像进行傅立叶变换，显示频谱，取其5，50，150的截止频率，显示图像，进行频率域平滑（三种），锐化\n",
    "##### 5. 对一副图像加噪，进行几何均值，算术均值，谐波，逆谐波处理\n",
    "##### 6. 提取一副彩色图像中红色，用HIS模型处理\n",
    "##### 7. 对一副二值图像进行膨胀、腐蚀、开、闭操作\n",
    "##### 8. 对一副图像进行二值化，ostu算法等 \n"
   ]
  },
  {
   "cell_type": "code",
   "execution_count": null,
   "metadata": {},
   "outputs": [],
   "source": []
  }
 ],
 "metadata": {
  "kernelspec": {
   "display_name": "Python 3",
   "language": "python",
   "name": "python3"
  },
  "language_info": {
   "codemirror_mode": {
    "name": "ipython",
    "version": 3
   },
   "file_extension": ".py",
   "mimetype": "text/x-python",
   "name": "python",
   "nbconvert_exporter": "python",
   "pygments_lexer": "ipython3",
   "version": "3.6.5"
  }
 },
 "nbformat": 4,
 "nbformat_minor": 2
}
